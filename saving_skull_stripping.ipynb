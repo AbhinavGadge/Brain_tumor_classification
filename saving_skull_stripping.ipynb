{
 "cells": [
  {
   "cell_type": "code",
   "execution_count": 6,
   "id": "df1529d0",
   "metadata": {},
   "outputs": [],
   "source": [
    "import numpy as np \n",
    "import cv2\n",
    "import os\n",
    "import imutils"
   ]
  },
  {
   "cell_type": "code",
   "execution_count": 2,
   "id": "ea9cedf5",
   "metadata": {},
   "outputs": [
    {
     "data": {
      "text/plain": [
       "{'non tumor': 0, 'tumor': 1}"
      ]
     },
     "execution_count": 2,
     "metadata": {},
     "output_type": "execute_result"
    }
   ],
   "source": [
    "labels={}\n",
    "for i,Class in enumerate(os.listdir('I:/New/')):\n",
    "    if Class in labels:\n",
    "        pass\n",
    "    elif Class!='.ipynb_checkpoints' and Class!='model':\n",
    "        labels[Class]=i\n",
    "labels      "
   ]
  },
  {
   "cell_type": "code",
   "execution_count": 3,
   "id": "f56490ba",
   "metadata": {},
   "outputs": [],
   "source": [
    "def crop_imgs(img, add_pixels_value=0):\n",
    "    \"\"\"\n",
    "    Finds the extreme points on the image and crops the rectangular out of them\n",
    "    \"\"\"\n",
    "    gray = cv2.cvtColor(img, cv2.COLOR_RGB2GRAY)\n",
    "    gray = cv2.GaussianBlur(gray, (5, 5), 0)\n",
    "\n",
    "    # threshold the image, then perform a series of erosions +\n",
    "    # dilations to remove any small regions of noise\n",
    "    thresh = cv2.threshold(gray, 45, 255, cv2.THRESH_BINARY)[1]\n",
    "    thresh = cv2.erode(thresh, None, iterations=2)\n",
    "    thresh = cv2.dilate(thresh, None, iterations=2)\n",
    "\n",
    "    # find contours in thresholded image, then grab the largest one\n",
    "    cnts = cv2.findContours(thresh.copy(), cv2.RETR_EXTERNAL, cv2.CHAIN_APPROX_SIMPLE)\n",
    "    cnts = imutils.grab_contours(cnts)\n",
    "    c = max(cnts, key=cv2.contourArea)\n",
    "\n",
    "     # find the extreme points\n",
    "    extLeft = tuple(c[c[:, :, 0].argmin()][0])\n",
    "    extRight = tuple(c[c[:, :, 0].argmax()][0])\n",
    "    extTop = tuple(c[c[:, :, 1].argmin()][0])\n",
    "    extBot = tuple(c[c[:, :, 1].argmax()][0])\n",
    "\n",
    "    ADD_PIXELS = add_pixels_value\n",
    "    new_img = img[extTop[1]-ADD_PIXELS:extBot[1]+ADD_PIXELS, extLeft[0]-ADD_PIXELS:extRight[0]+ADD_PIXELS].copy()\n",
    "    s1,s2,_=new_img.shape\n",
    "    mask = np.zeros_like(new_img)\n",
    "# create a white filled ellipse\n",
    "    mask=cv2.ellipse(mask, center=(s2//2, s1//2), axes=((s2-20)//2,(s1-5)//2),\n",
    "         angle=0, startAngle=0, endAngle=360, color=(255,255), thickness=-1)\n",
    "    result = np.bitwise_and(new_img,mask)  \n",
    "#       result=cv2.cvtColor(result, cv2.COLOR_BGR2RGB)\n",
    "\n",
    "\n",
    "    return np.array(result)\n"
   ]
  },
  {
   "cell_type": "code",
   "execution_count": 4,
   "id": "fddbdea6",
   "metadata": {},
   "outputs": [],
   "source": [
    "def resize_img(img, img_size):\n",
    "    img = cv2.resize(\n",
    "        img,\n",
    "        dsize=img_size,\n",
    "        interpolation=cv2.INTER_CUBIC\n",
    "    )\n",
    "    return img"
   ]
  },
  {
   "cell_type": "code",
   "execution_count": 10,
   "id": "cfb65ad4",
   "metadata": {},
   "outputs": [],
   "source": [
    "Img_data=[]\n",
    "Img_label=[]\n",
    "for Class in labels:\n",
    "    path=\"I:/New/\"+Class\n",
    "    path2=\"I:/SKULL/\"+Class\n",
    "    for name in os.listdir(path):\n",
    "        I=cv2.imread(path+\"/\"+name)\n",
    "        I=cv2.cvtColor(I,cv2.COLOR_BGR2RGB)\n",
    "        I=np.array(cv2.resize(I,(128,128)))\n",
    "        I=crop_imgs(I)\n",
    "        I=resize_img(I,(128,128))\n",
    "        I=I[:,:,1]\n",
    "        cv2.imwrite(path2+\"/\"+\"stipp_\"+name,I)"
   ]
  },
  {
   "cell_type": "code",
   "execution_count": null,
   "id": "70622bcc",
   "metadata": {},
   "outputs": [],
   "source": []
  }
 ],
 "metadata": {
  "kernelspec": {
   "display_name": "Python 3 (ipykernel)",
   "language": "python",
   "name": "python3"
  },
  "language_info": {
   "codemirror_mode": {
    "name": "ipython",
    "version": 3
   },
   "file_extension": ".py",
   "mimetype": "text/x-python",
   "name": "python",
   "nbconvert_exporter": "python",
   "pygments_lexer": "ipython3",
   "version": "3.9.7"
  }
 },
 "nbformat": 4,
 "nbformat_minor": 5
}
